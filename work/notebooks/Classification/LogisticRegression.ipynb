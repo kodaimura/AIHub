{
 "cells": [
  {
   "cell_type": "code",
   "execution_count": 1,
   "id": "defda435-56a4-4615-8bff-7cf3410bd4c8",
   "metadata": {},
   "outputs": [],
   "source": [
    "using Flux\n",
    "using MLDatasets\n",
    "using DataFrames\n",
    "using Statistics"
   ]
  },
  {
   "cell_type": "code",
   "execution_count": 2,
   "id": "9b028044-f322-4510-a037-6897d78c62f3",
   "metadata": {},
   "outputs": [
    {
     "data": {
      "text/plain": [
       "loss (generic function with 1 method)"
      ]
     },
     "execution_count": 2,
     "metadata": {},
     "output_type": "execute_result"
    }
   ],
   "source": [
    "function loss(model, features, labels_onehot)\n",
    "    y_hat = model(features)\n",
    "    return Flux.logitcrossentropy(y_hat, labels_onehot)\n",
    "end"
   ]
  },
  {
   "cell_type": "code",
   "execution_count": 3,
   "id": "4160276e-2a97-4d6b-b649-447efb7ef084",
   "metadata": {},
   "outputs": [
    {
     "data": {
      "text/plain": [
       "train_model! (generic function with 1 method)"
      ]
     },
     "execution_count": 3,
     "metadata": {},
     "output_type": "execute_result"
    }
   ],
   "source": [
    "function train_model!(f_loss, model, features, labels_onehot; learning_rate=0.01)\n",
    "    dLdm, _, _ = gradient(f_loss, model, features, labels_onehot)\n",
    "    @. model[1].weight = model[1].weight - learning_rate * dLdm[:layers][1][:weight]\n",
    "    @. model[1].bias = model[1].bias - learning_rate * dLdm[:layers][1][:bias]\n",
    "end"
   ]
  },
  {
   "cell_type": "code",
   "execution_count": 4,
   "id": "291389f9-336b-482f-b4f4-a0e6db0e24d9",
   "metadata": {},
   "outputs": [
    {
     "data": {
      "text/plain": [
       "train_until_accuracy_reached! (generic function with 1 method)"
      ]
     },
     "execution_count": 4,
     "metadata": {},
     "output_type": "execute_result"
    }
   ],
   "source": [
    "function train_until_accuracy_reached!(f_loss, model, features, labels, classes; max_epochs=10000, threshold=0.98, learning_rate=0.01)\n",
    "    labels_onehot = Flux.onehotbatch(labels, classes)\n",
    "    accuracy(x, y) = Statistics.mean(Flux.onecold(model(x), classes) .== y)\n",
    "    for epoch in 1:max_epochs\n",
    "        train_model!(f_loss, model, features, labels_onehot; learning_rate=learning_rate)\n",
    "\n",
    "        current_accuracy = accuracy(features, labels)\n",
    "        if current_accuracy >= threshold\n",
    "            println(\"Converged at epoch $epoch with accuracy $current_accuracy\")\n",
    "            break\n",
    "        end\n",
    "    end\n",
    "end"
   ]
  },
  {
   "cell_type": "code",
   "execution_count": 5,
   "id": "2fbaff72-4ae8-45c1-9afc-7c6af67b2a95",
   "metadata": {},
   "outputs": [
    {
     "name": "stdout",
     "output_type": "stream",
     "text": [
      "Converged at epoch 5529 with accuracy 0.98\n"
     ]
    }
   ],
   "source": [
    "#サンプルデータ\n",
    "x, y = Iris(as_df=false)[:]\n",
    "x = Float32.(x)\n",
    "y = vec(y)\n",
    "classes = [\"Iris-setosa\", \"Iris-versicolor\", \"Iris-virginica\"];\n",
    "\n",
    "model = Chain(Dense(4 => 3), softmax)\n",
    "features = x\n",
    "labels = y\n",
    "train_until_accuracy_reached!(loss, model, features, labels, classes; max_epochs=1000000, learning_rate=0.01)"
   ]
  },
  {
   "cell_type": "code",
   "execution_count": 6,
   "id": "0f451747-ce0e-4f4a-8bf0-6a7b4d1fd4a7",
   "metadata": {},
   "outputs": [
    {
     "name": "stdout",
     "output_type": "stream",
     "text": [
      "Predicted class for sample [5.1, 3.5, 1.4, 0.2]: Iris-setosa\n",
      "Predicted class for sample [6.2, 2.9, 4.3, 1.3]: Iris-versicolor\n",
      "Predicted class for sample [5.9, 3.0, 5.1, 1.8]: Iris-virginica\n"
     ]
    }
   ],
   "source": [
    "#学習したモデルで予測\n",
    "new_data = [[5.1, 3.5, 1.4, 0.2], [6.2, 2.9, 4.3, 1.3], [5.9, 3.0, 5.1, 1.8]]\n",
    "for sample in new_data\n",
    "    x = Float32.(sample)\n",
    "    y_hat = model(x)\n",
    "    predicted_class = Flux.onecold(y_hat, classes)\n",
    "    println(\"Predicted class for sample \", sample, \": \", predicted_class)\n",
    "end"
   ]
  },
  {
   "cell_type": "code",
   "execution_count": 7,
   "id": "3301f0e5-3a45-4109-bddd-11a379620750",
   "metadata": {},
   "outputs": [
    {
     "data": {
      "text/plain": [
       "Params([Float32[-0.03557788 1.8849722 -1.0714439 -0.968261; -0.02271377 0.10371932 0.73199344 -0.5782927; -1.1295877 -1.0471723 2.1424239 1.9715953], Float32[0.2750254, 0.25109768, -0.52612257]])"
      ]
     },
     "execution_count": 7,
     "metadata": {},
     "output_type": "execute_result"
    }
   ],
   "source": [
    "Flux.params(model)"
   ]
  },
  {
   "cell_type": "code",
   "execution_count": null,
   "id": "d934d843-4960-4e53-96d2-2a4d56a11fd2",
   "metadata": {},
   "outputs": [],
   "source": []
  }
 ],
 "metadata": {
  "kernelspec": {
   "display_name": "Julia 1.9.3",
   "language": "julia",
   "name": "julia-1.9"
  },
  "language_info": {
   "file_extension": ".jl",
   "mimetype": "application/julia",
   "name": "julia",
   "version": "1.9.3"
  }
 },
 "nbformat": 4,
 "nbformat_minor": 5
}
